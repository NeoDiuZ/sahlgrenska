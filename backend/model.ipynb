{
 "cells": [
  {
   "cell_type": "code",
   "execution_count": 2,
   "metadata": {},
   "outputs": [
    {
     "name": "stdout",
     "output_type": "stream",
     "text": [
      "                    Description             Value\n",
      "0                    Session id               123\n",
      "1                        Target             Label\n",
      "2                   Target type            Binary\n",
      "3                Target mapping     NO: 0, YES: 1\n",
      "4           Original data shape        (11855, 6)\n",
      "5        Transformed data shape        (11855, 6)\n",
      "6   Transformed train set shape         (8298, 6)\n",
      "7    Transformed test set shape         (3557, 6)\n",
      "8              Numeric features                 5\n",
      "9                    Preprocess              True\n",
      "10              Imputation type            simple\n",
      "11           Numeric imputation              mean\n",
      "12       Categorical imputation              mode\n",
      "13               Fold Generator   StratifiedKFold\n",
      "14                  Fold Number                10\n",
      "15                     CPU Jobs                -1\n",
      "16                      Use GPU             False\n",
      "17               Log Experiment             False\n",
      "18              Experiment Name  clf-default-name\n",
      "19                          USI              0210\n"
     ]
    }
   ],
   "source": [
    "import pandas as pd\n",
    "from pycaret.classification import *\n",
    "\n",
    "# Load the dataset\n",
    "df = pd.read_csv('ndata.csv')\n",
    "\n",
    "# Set up the classification environment in PyCaret\n",
    "clf = setup(data=df, target='Label', session_id=123, html=False)\n"
   ]
  },
  {
   "cell_type": "code",
   "execution_count": 3,
   "metadata": {},
   "outputs": [
    {
     "name": "stderr",
     "output_type": "stream",
     "text": [
      "                                                           "
     ]
    },
    {
     "name": "stdout",
     "output_type": "stream",
     "text": [
      "                                    Model  Accuracy     AUC  Recall   Prec.  \\\n",
      "ridge                    Ridge Classifier    1.0000  1.0000  1.0000  1.0000   \n",
      "qda       Quadratic Discriminant Analysis    1.0000  1.0000  1.0000  1.0000   \n",
      "lda          Linear Discriminant Analysis    1.0000  1.0000  1.0000  1.0000   \n",
      "et                 Extra Trees Classifier    0.9999  1.0000  0.9999  0.9999   \n",
      "lr                    Logistic Regression    0.9998  1.0000  0.9998  0.9998   \n",
      "rf               Random Forest Classifier    0.9998  1.0000  0.9998  0.9998   \n",
      "gbc          Gradient Boosting Classifier    0.9998  1.0000  0.9998  0.9998   \n",
      "dt               Decision Tree Classifier    0.9996  0.9996  0.9996  0.9996   \n",
      "lightgbm  Light Gradient Boosting Machine    0.9994  1.0000  0.9994  0.9994   \n",
      "ada                  Ada Boost Classifier    0.9822  0.9987  0.9822  0.9825   \n",
      "knn                K Neighbors Classifier    0.8355  0.9071  0.8355  0.8364   \n",
      "nb                            Naive Bayes    0.6712  0.7462  0.6712  0.6871   \n",
      "svm                   SVM - Linear Kernel    0.5036  0.5239  0.5036  0.4084   \n",
      "dummy                    Dummy Classifier    0.5001  0.5000  0.5001  0.2501   \n",
      "\n",
      "              F1   Kappa     MCC  TT (Sec)  \n",
      "ridge     1.0000  1.0000  1.0000     0.007  \n",
      "qda       1.0000  1.0000  1.0000     0.008  \n",
      "lda       1.0000  1.0000  1.0000     0.008  \n",
      "et        0.9999  0.9998  0.9998     0.047  \n",
      "lr        0.9998  0.9995  0.9995     0.334  \n",
      "rf        0.9998  0.9995  0.9995     0.076  \n",
      "gbc       0.9998  0.9995  0.9995     0.141  \n",
      "dt        0.9996  0.9993  0.9993     0.009  \n",
      "lightgbm  0.9994  0.9988  0.9988     0.269  \n",
      "ada       0.9822  0.9643  0.9646     0.043  \n",
      "knn       0.8354  0.6710  0.6719     0.015  \n",
      "nb        0.6642  0.3425  0.3580     0.017  \n",
      "svm       0.3595  0.0074  0.0276     0.018  \n",
      "dummy     0.3335  0.0000  0.0000     0.009  \n"
     ]
    },
    {
     "name": "stderr",
     "output_type": "stream",
     "text": [
      "\r"
     ]
    }
   ],
   "source": [
    "# Compare different models to find the best one\n",
    "best_model = compare_models()"
   ]
  },
  {
   "cell_type": "code",
   "execution_count": 4,
   "metadata": {},
   "outputs": [],
   "source": [
    "# Finalize the best model\n",
    "final_model = finalize_model(best_model)"
   ]
  },
  {
   "cell_type": "code",
   "execution_count": 5,
   "metadata": {},
   "outputs": [
    {
     "data": {
      "application/vnd.jupyter.widget-view+json": {
       "model_id": "f58e59e7dc504fe89ac7af23d18fd123",
       "version_major": 2,
       "version_minor": 0
      },
      "text/plain": [
       "interactive(children=(ToggleButtons(description='Plot Type:', icons=('',), options=(('Pipeline Plot', 'pipelin…"
      ]
     },
     "metadata": {},
     "output_type": "display_data"
    }
   ],
   "source": [
    "# Evaluate the best model\n",
    "evaluate_model(final_model)"
   ]
  },
  {
   "cell_type": "code",
   "execution_count": 6,
   "metadata": {},
   "outputs": [
    {
     "name": "stdout",
     "output_type": "stream",
     "text": [
      "Transformation Pipeline and Model Successfully Saved\n"
     ]
    },
    {
     "data": {
      "text/plain": [
       "(Pipeline(memory=Memory(location=None),\n",
       "          steps=[('label_encoding',\n",
       "                  TransformerWrapperWithInverse(exclude=None, include=None,\n",
       "                                                transformer=LabelEncoder())),\n",
       "                 ('numerical_imputer',\n",
       "                  TransformerWrapper(exclude=None,\n",
       "                                     include=['Timestamp', 'Raw_EMG_Ch1',\n",
       "                                              'Raw_EMG_Ch2',\n",
       "                                              'Independent_Component_Ch1',\n",
       "                                              'Independent_Component_Ch2'],\n",
       "                                     transformer=SimpleImputer(add_indicator=Fal...\n",
       "                  TransformerWrapper(exclude=None, include=[],\n",
       "                                     transformer=SimpleImputer(add_indicator=False,\n",
       "                                                               copy=True,\n",
       "                                                               fill_value=None,\n",
       "                                                               keep_empty_features=False,\n",
       "                                                               missing_values=nan,\n",
       "                                                               strategy='most_frequent'))),\n",
       "                 ('actual_estimator',\n",
       "                  RidgeClassifier(alpha=1.0, class_weight=None, copy_X=True,\n",
       "                                  fit_intercept=True, max_iter=None,\n",
       "                                  positive=False, random_state=123,\n",
       "                                  solver='auto', tol=0.0001))],\n",
       "          verbose=False),\n",
       " 'nbest.pkl')"
      ]
     },
     "execution_count": 6,
     "metadata": {},
     "output_type": "execute_result"
    }
   ],
   "source": [
    "# Save the model\n",
    "save_model(final_model, 'nbest')"
   ]
  }
 ],
 "metadata": {
  "kernelspec": {
   "display_name": "subvocal",
   "language": "python",
   "name": "python3"
  },
  "language_info": {
   "codemirror_mode": {
    "name": "ipython",
    "version": 3
   },
   "file_extension": ".py",
   "mimetype": "text/x-python",
   "name": "python",
   "nbconvert_exporter": "python",
   "pygments_lexer": "ipython3",
   "version": "3.9.20"
  }
 },
 "nbformat": 4,
 "nbformat_minor": 2
}
