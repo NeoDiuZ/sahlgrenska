{
 "cells": [
  {
   "cell_type": "code",
   "execution_count": 1,
   "metadata": {
    "execution": {
     "iopub.execute_input": "2025-02-21T17:13:32.460295Z",
     "iopub.status.busy": "2025-02-21T17:13:32.460086Z",
     "iopub.status.idle": "2025-02-21T17:13:35.971568Z",
     "shell.execute_reply": "2025-02-21T17:13:35.971279Z"
    }
   },
   "outputs": [
    {
     "name": "stdout",
     "output_type": "stream",
     "text": [
      "                    Description             Value\n",
      "0                    Session id               123\n",
      "1                        Target             Label\n",
      "2                   Target type            Binary\n",
      "3                Target mapping    GO: 0, STOP: 1\n",
      "4           Original data shape        (11849, 6)\n",
      "5        Transformed data shape        (11849, 6)\n",
      "6   Transformed train set shape         (8294, 6)\n",
      "7    Transformed test set shape         (3555, 6)\n",
      "8              Numeric features                 5\n",
      "9                    Preprocess              True\n",
      "10              Imputation type            simple\n",
      "11           Numeric imputation              mean\n",
      "12       Categorical imputation              mode\n",
      "13               Fold Generator   StratifiedKFold\n",
      "14                  Fold Number                10\n",
      "15                     CPU Jobs                -1\n",
      "16                      Use GPU             False\n",
      "17               Log Experiment             False\n",
      "18              Experiment Name  clf-default-name\n",
      "19                          USI              7dcb\n"
     ]
    }
   ],
   "source": [
    "import pandas as pd\n",
    "from pycaret.classification import *\n",
    "\n",
    "# Load the dataset\n",
    "df = pd.read_csv('ndata.csv')\n",
    "\n",
    "# Set up the classification environment in PyCaret\n",
    "clf = setup(data=df, target='Label', session_id=123, html=False)\n"
   ]
  },
  {
   "cell_type": "code",
   "execution_count": 2,
   "metadata": {
    "execution": {
     "iopub.execute_input": "2025-02-21T17:13:35.995988Z",
     "iopub.status.busy": "2025-02-21T17:13:35.995689Z",
     "iopub.status.idle": "2025-02-21T17:13:49.466655Z",
     "shell.execute_reply": "2025-02-21T17:13:49.465173Z"
    }
   },
   "outputs": [
    {
     "name": "stderr",
     "output_type": "stream",
     "text": [
      "\r",
      "Processing:   0%|          | 0/61 [00:00<?, ?it/s]"
     ]
    },
    {
     "name": "stderr",
     "output_type": "stream",
     "text": [
      "\r",
      "Processing:   8%|▊         | 5/61 [00:06<01:14,  1.33s/it]"
     ]
    },
    {
     "name": "stderr",
     "output_type": "stream",
     "text": [
      "\r",
      "Processing:  11%|█▏        | 7/61 [00:06<00:47,  1.15it/s]"
     ]
    },
    {
     "name": "stderr",
     "output_type": "stream",
     "text": [
      "\r",
      "Processing:  15%|█▍        | 9/61 [00:06<00:31,  1.65it/s]"
     ]
    },
    {
     "name": "stderr",
     "output_type": "stream",
     "text": [
      "\r",
      "Processing:  21%|██▏       | 13/61 [00:07<00:15,  3.09it/s]"
     ]
    },
    {
     "name": "stderr",
     "output_type": "stream",
     "text": [
      "\r",
      "Processing:  28%|██▊       | 17/61 [00:07<00:09,  4.88it/s]"
     ]
    },
    {
     "name": "stderr",
     "output_type": "stream",
     "text": [
      "\r",
      "Processing:  34%|███▍      | 21/61 [00:07<00:05,  6.71it/s]"
     ]
    },
    {
     "name": "stderr",
     "output_type": "stream",
     "text": [
      "\r",
      "Processing:  41%|████      | 25/61 [00:07<00:03,  9.19it/s]"
     ]
    },
    {
     "name": "stderr",
     "output_type": "stream",
     "text": [
      "\r",
      "Processing:  48%|████▊     | 29/61 [00:08<00:03,  8.20it/s]"
     ]
    },
    {
     "name": "stderr",
     "output_type": "stream",
     "text": [
      "\r",
      "Processing:  54%|█████▍    | 33/61 [00:08<00:02, 10.69it/s]"
     ]
    },
    {
     "name": "stderr",
     "output_type": "stream",
     "text": [
      "\r",
      "Processing:  61%|██████    | 37/61 [00:08<00:02, 10.47it/s]"
     ]
    },
    {
     "name": "stderr",
     "output_type": "stream",
     "text": [
      "\r",
      "Processing:  67%|██████▋   | 41/61 [00:09<00:02,  6.84it/s]"
     ]
    },
    {
     "name": "stderr",
     "output_type": "stream",
     "text": [
      "\r",
      "Processing:  74%|███████▍  | 45/61 [00:09<00:01,  8.75it/s]"
     ]
    },
    {
     "name": "stderr",
     "output_type": "stream",
     "text": [
      "\r",
      "Processing:  80%|████████  | 49/61 [00:10<00:01,  8.49it/s]"
     ]
    },
    {
     "name": "stderr",
     "output_type": "stream",
     "text": [
      "\r",
      "Processing:  87%|████████▋ | 53/61 [00:13<00:02,  3.49it/s]"
     ]
    },
    {
     "name": "stderr",
     "output_type": "stream",
     "text": [
      "\r",
      "Processing:  93%|█████████▎| 57/61 [00:13<00:00,  4.75it/s]"
     ]
    },
    {
     "name": "stderr",
     "output_type": "stream",
     "text": [
      "\r",
      "Processing: 100%|██████████| 61/61 [00:13<00:00,  6.31it/s]"
     ]
    },
    {
     "name": "stderr",
     "output_type": "stream",
     "text": [
      "\r",
      "                                                           "
     ]
    },
    {
     "name": "stdout",
     "output_type": "stream",
     "text": [
      "                                    Model  Accuracy     AUC  Recall   Prec.  \\\n",
      "qda       Quadratic Discriminant Analysis    1.0000  1.0000  1.0000  1.0000   \n",
      "et                 Extra Trees Classifier    1.0000  1.0000  1.0000  1.0000   \n",
      "dt               Decision Tree Classifier    0.9999  0.9999  0.9999  0.9999   \n",
      "lightgbm  Light Gradient Boosting Machine    0.9999  1.0000  0.9999  0.9999   \n",
      "rf               Random Forest Classifier    0.9996  1.0000  0.9996  0.9996   \n",
      "ada                  Ada Boost Classifier    0.9995  0.9996  0.9995  0.9995   \n",
      "gbc          Gradient Boosting Classifier    0.9995  0.9998  0.9995  0.9995   \n",
      "knn                K Neighbors Classifier    0.9960  0.9992  0.9960  0.9960   \n",
      "nb                            Naive Bayes    0.5394  0.5829  0.5394  0.5708   \n",
      "lda          Linear Discriminant Analysis    0.5282  0.6558  0.5282  0.5293   \n",
      "ridge                    Ridge Classifier    0.5277  0.6558  0.5277  0.5288   \n",
      "svm                   SVM - Linear Kernel    0.5198  0.6319  0.5198  0.3848   \n",
      "dummy                    Dummy Classifier    0.5001  0.5000  0.5001  0.2501   \n",
      "lr                    Logistic Regression    0.4977  0.6560  0.4977  0.4978   \n",
      "\n",
      "              F1   Kappa     MCC  TT (Sec)  \n",
      "qda       1.0000  1.0000  1.0000     0.008  \n",
      "et        1.0000  1.0000  1.0000     0.045  \n",
      "dt        0.9999  0.9998  0.9998     0.009  \n",
      "lightgbm  0.9999  0.9998  0.9998     0.264  \n",
      "rf        0.9996  0.9993  0.9993     0.055  \n",
      "ada       0.9995  0.9990  0.9990     0.036  \n",
      "gbc       0.9995  0.9990  0.9990     0.099  \n",
      "knn       0.9960  0.9920  0.9921     0.018  \n",
      "nb        0.4819  0.0790  0.1058     0.009  \n",
      "lda       0.5242  0.0564  0.0575     0.012  \n",
      "ridge     0.5237  0.0554  0.0565     0.008  \n",
      "svm       0.3836  0.0395  0.0619     0.017  \n",
      "dummy     0.3335  0.0000  0.0000     0.008  \n",
      "lr        0.4957 -0.0046 -0.0045     0.663  \n"
     ]
    },
    {
     "name": "stderr",
     "output_type": "stream",
     "text": [
      "\r"
     ]
    }
   ],
   "source": [
    "# Compare different models to find the best one\n",
    "best_model = compare_models()"
   ]
  },
  {
   "cell_type": "code",
   "execution_count": 3,
   "metadata": {
    "execution": {
     "iopub.execute_input": "2025-02-21T17:13:49.487130Z",
     "iopub.status.busy": "2025-02-21T17:13:49.486999Z",
     "iopub.status.idle": "2025-02-21T17:13:49.646603Z",
     "shell.execute_reply": "2025-02-21T17:13:49.646268Z"
    }
   },
   "outputs": [],
   "source": [
    "# Finalize the best model\n",
    "final_model = finalize_model(best_model)"
   ]
  },
  {
   "cell_type": "code",
   "execution_count": 4,
   "metadata": {
    "execution": {
     "iopub.execute_input": "2025-02-21T17:13:49.648310Z",
     "iopub.status.busy": "2025-02-21T17:13:49.648208Z",
     "iopub.status.idle": "2025-02-21T17:13:50.110627Z",
     "shell.execute_reply": "2025-02-21T17:13:50.110374Z"
    }
   },
   "outputs": [
    {
     "data": {
      "application/vnd.jupyter.widget-view+json": {
       "model_id": "9f07f532161b470a8c7b3cf495f6a474",
       "version_major": 2,
       "version_minor": 0
      },
      "text/plain": [
       "interactive(children=(ToggleButtons(description='Plot Type:', icons=('',), options=(('Pipeline Plot', 'pipelin…"
      ]
     },
     "metadata": {},
     "output_type": "display_data"
    }
   ],
   "source": [
    "# Evaluate the best model\n",
    "evaluate_model(final_model)"
   ]
  },
  {
   "cell_type": "code",
   "execution_count": 5,
   "metadata": {
    "execution": {
     "iopub.execute_input": "2025-02-21T17:13:50.112513Z",
     "iopub.status.busy": "2025-02-21T17:13:50.112441Z",
     "iopub.status.idle": "2025-02-21T17:13:50.157717Z",
     "shell.execute_reply": "2025-02-21T17:13:50.157400Z"
    }
   },
   "outputs": [
    {
     "name": "stdout",
     "output_type": "stream",
     "text": [
      "Transformation Pipeline and Model Successfully Saved\n"
     ]
    },
    {
     "data": {
      "text/plain": [
       "(Pipeline(memory=Memory(location=None),\n",
       "          steps=[('label_encoding',\n",
       "                  TransformerWrapperWithInverse(exclude=None, include=None,\n",
       "                                                transformer=LabelEncoder())),\n",
       "                 ('numerical_imputer',\n",
       "                  TransformerWrapper(exclude=None,\n",
       "                                     include=['Timestamp', 'Raw_EMG1',\n",
       "                                              'Raw_EMG2', 'IC1', 'IC2'],\n",
       "                                     transformer=SimpleImputer(add_indicator=False,\n",
       "                                                               copy=True,\n",
       "                                                               fill_value=None,\n",
       "                                                               keep_empty_features=F...\n",
       "                                                               strategy='mean'))),\n",
       "                 ('categorical_imputer',\n",
       "                  TransformerWrapper(exclude=None, include=[],\n",
       "                                     transformer=SimpleImputer(add_indicator=False,\n",
       "                                                               copy=True,\n",
       "                                                               fill_value=None,\n",
       "                                                               keep_empty_features=False,\n",
       "                                                               missing_values=nan,\n",
       "                                                               strategy='most_frequent'))),\n",
       "                 ('actual_estimator',\n",
       "                  QuadraticDiscriminantAnalysis(priors=None, reg_param=0.0,\n",
       "                                                store_covariance=False,\n",
       "                                                tol=0.0001))],\n",
       "          verbose=False),\n",
       " 'nbest.pkl')"
      ]
     },
     "execution_count": 5,
     "metadata": {},
     "output_type": "execute_result"
    }
   ],
   "source": [
    "# Save the model\n",
    "save_model(final_model, 'nbest')"
   ]
  }
 ],
 "metadata": {
  "kernelspec": {
   "display_name": "subvocal",
   "language": "python",
   "name": "python3"
  },
  "language_info": {
   "codemirror_mode": {
    "name": "ipython",
    "version": 3
   },
   "file_extension": ".py",
   "mimetype": "text/x-python",
   "name": "python",
   "nbconvert_exporter": "python",
   "pygments_lexer": "ipython3",
   "version": "3.9.20"
  },
  "widgets": {
   "application/vnd.jupyter.widget-state+json": {
    "state": {
     "26fb7483e67c44d09091c440f7aaddda": {
      "model_module": "@jupyter-widgets/output",
      "model_module_version": "1.0.0",
      "model_name": "OutputModel",
      "state": {
       "_dom_classes": [],
       "_model_module": "@jupyter-widgets/output",
       "_model_module_version": "1.0.0",
       "_model_name": "OutputModel",
       "_view_count": null,
       "_view_module": "@jupyter-widgets/output",
       "_view_module_version": "1.0.0",
       "_view_name": "OutputView",
       "layout": "IPY_MODEL_dcf7cff5517e4ac9b4f3868867f09685",
       "msg_id": "",
       "outputs": [
        {
         "data": {
          "image/png": "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",
          "text/plain": "<Figure size 1700x600 with 1 Axes>"
         },
         "metadata": {},
         "output_type": "display_data"
        }
       ],
       "tabbable": null,
       "tooltip": null
      }
     },
     "6aff44ebea9d46989f76e186bb40edfc": {
      "model_module": "@jupyter-widgets/base",
      "model_module_version": "2.0.0",
      "model_name": "LayoutModel",
      "state": {
       "_model_module": "@jupyter-widgets/base",
       "_model_module_version": "2.0.0",
       "_model_name": "LayoutModel",
       "_view_count": null,
       "_view_module": "@jupyter-widgets/base",
       "_view_module_version": "2.0.0",
       "_view_name": "LayoutView",
       "align_content": null,
       "align_items": null,
       "align_self": null,
       "border_bottom": null,
       "border_left": null,
       "border_right": null,
       "border_top": null,
       "bottom": null,
       "display": null,
       "flex": null,
       "flex_flow": null,
       "grid_area": null,
       "grid_auto_columns": null,
       "grid_auto_flow": null,
       "grid_auto_rows": null,
       "grid_column": null,
       "grid_gap": null,
       "grid_row": null,
       "grid_template_areas": null,
       "grid_template_columns": null,
       "grid_template_rows": null,
       "height": null,
       "justify_content": null,
       "justify_items": null,
       "left": null,
       "margin": null,
       "max_height": null,
       "max_width": null,
       "min_height": null,
       "min_width": null,
       "object_fit": null,
       "object_position": null,
       "order": null,
       "overflow": null,
       "padding": null,
       "right": null,
       "top": null,
       "visibility": null,
       "width": null
      }
     },
     "7c89bad85f574817b3eaa9d464a9df91": {
      "model_module": "@jupyter-widgets/base",
      "model_module_version": "2.0.0",
      "model_name": "LayoutModel",
      "state": {
       "_model_module": "@jupyter-widgets/base",
       "_model_module_version": "2.0.0",
       "_model_name": "LayoutModel",
       "_view_count": null,
       "_view_module": "@jupyter-widgets/base",
       "_view_module_version": "2.0.0",
       "_view_name": "LayoutView",
       "align_content": null,
       "align_items": null,
       "align_self": null,
       "border_bottom": null,
       "border_left": null,
       "border_right": null,
       "border_top": null,
       "bottom": null,
       "display": null,
       "flex": null,
       "flex_flow": null,
       "grid_area": null,
       "grid_auto_columns": null,
       "grid_auto_flow": null,
       "grid_auto_rows": null,
       "grid_column": null,
       "grid_gap": null,
       "grid_row": null,
       "grid_template_areas": null,
       "grid_template_columns": null,
       "grid_template_rows": null,
       "height": null,
       "justify_content": null,
       "justify_items": null,
       "left": null,
       "margin": null,
       "max_height": null,
       "max_width": null,
       "min_height": null,
       "min_width": null,
       "object_fit": null,
       "object_position": null,
       "order": null,
       "overflow": null,
       "padding": null,
       "right": null,
       "top": null,
       "visibility": null,
       "width": null
      }
     },
     "9f07f532161b470a8c7b3cf495f6a474": {
      "model_module": "@jupyter-widgets/controls",
      "model_module_version": "2.0.0",
      "model_name": "VBoxModel",
      "state": {
       "_dom_classes": [
        "widget-interact"
       ],
       "_model_module": "@jupyter-widgets/controls",
       "_model_module_version": "2.0.0",
       "_model_name": "VBoxModel",
       "_view_count": null,
       "_view_module": "@jupyter-widgets/controls",
       "_view_module_version": "2.0.0",
       "_view_name": "VBoxView",
       "box_style": "",
       "children": [
        "IPY_MODEL_bb59700e52b24498a6904258c9131cd5",
        "IPY_MODEL_26fb7483e67c44d09091c440f7aaddda"
       ],
       "layout": "IPY_MODEL_6aff44ebea9d46989f76e186bb40edfc",
       "tabbable": null,
       "tooltip": null
      }
     },
     "bb59700e52b24498a6904258c9131cd5": {
      "model_module": "@jupyter-widgets/controls",
      "model_module_version": "2.0.0",
      "model_name": "ToggleButtonsModel",
      "state": {
       "_dom_classes": [],
       "_model_module": "@jupyter-widgets/controls",
       "_model_module_version": "2.0.0",
       "_model_name": "ToggleButtonsModel",
       "_options_labels": [
        "Pipeline Plot",
        "Hyperparameters",
        "AUC",
        "Confusion Matrix",
        "Threshold",
        "Precision Recall",
        "Prediction Error",
        "Class Report",
        "Feature Selection",
        "Learning Curve",
        "Manifold Learning",
        "Calibration Curve",
        "Validation Curve",
        "Dimensions",
        "Feature Importance",
        "Feature Importance (All)",
        "Decision Boundary",
        "Lift Chart",
        "Gain Chart",
        "Decision Tree",
        "KS Statistic Plot"
       ],
       "_view_count": null,
       "_view_module": "@jupyter-widgets/controls",
       "_view_module_version": "2.0.0",
       "_view_name": "ToggleButtonsView",
       "button_style": "",
       "description": "Plot Type:",
       "description_allow_html": false,
       "disabled": false,
       "icons": [
        ""
       ],
       "index": 0,
       "layout": "IPY_MODEL_7c89bad85f574817b3eaa9d464a9df91",
       "style": "IPY_MODEL_e29b232825514ddfba5d4a329b4f8aff",
       "tabbable": null,
       "tooltip": null,
       "tooltips": []
      }
     },
     "dcf7cff5517e4ac9b4f3868867f09685": {
      "model_module": "@jupyter-widgets/base",
      "model_module_version": "2.0.0",
      "model_name": "LayoutModel",
      "state": {
       "_model_module": "@jupyter-widgets/base",
       "_model_module_version": "2.0.0",
       "_model_name": "LayoutModel",
       "_view_count": null,
       "_view_module": "@jupyter-widgets/base",
       "_view_module_version": "2.0.0",
       "_view_name": "LayoutView",
       "align_content": null,
       "align_items": null,
       "align_self": null,
       "border_bottom": null,
       "border_left": null,
       "border_right": null,
       "border_top": null,
       "bottom": null,
       "display": null,
       "flex": null,
       "flex_flow": null,
       "grid_area": null,
       "grid_auto_columns": null,
       "grid_auto_flow": null,
       "grid_auto_rows": null,
       "grid_column": null,
       "grid_gap": null,
       "grid_row": null,
       "grid_template_areas": null,
       "grid_template_columns": null,
       "grid_template_rows": null,
       "height": null,
       "justify_content": null,
       "justify_items": null,
       "left": null,
       "margin": null,
       "max_height": null,
       "max_width": null,
       "min_height": null,
       "min_width": null,
       "object_fit": null,
       "object_position": null,
       "order": null,
       "overflow": null,
       "padding": null,
       "right": null,
       "top": null,
       "visibility": null,
       "width": null
      }
     },
     "e29b232825514ddfba5d4a329b4f8aff": {
      "model_module": "@jupyter-widgets/controls",
      "model_module_version": "2.0.0",
      "model_name": "ToggleButtonsStyleModel",
      "state": {
       "_model_module": "@jupyter-widgets/controls",
       "_model_module_version": "2.0.0",
       "_model_name": "ToggleButtonsStyleModel",
       "_view_count": null,
       "_view_module": "@jupyter-widgets/base",
       "_view_module_version": "2.0.0",
       "_view_name": "StyleView",
       "button_width": "",
       "description_width": "",
       "font_weight": ""
      }
     }
    },
    "version_major": 2,
    "version_minor": 0
   }
  }
 },
 "nbformat": 4,
 "nbformat_minor": 2
}
